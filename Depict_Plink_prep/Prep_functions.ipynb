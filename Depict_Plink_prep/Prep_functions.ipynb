{
 "cells": [
  {
   "cell_type": "code",
   "execution_count": 35,
   "id": "7f97282b",
   "metadata": {},
   "outputs": [],
   "source": [
    "import pandas as pd"
   ]
  },
  {
   "cell_type": "code",
   "execution_count": 36,
   "id": "bba5eb6d",
   "metadata": {},
   "outputs": [],
   "source": [
    "def prep_IBD_PC_for_plink(filepath):\n",
    "    \"\"\"\n",
    "    Function to prepare IBD (Inflammatory bowel disease) and PC (Prostate cancer) files\n",
    "    removes all collumns containing only Nan's\n",
    "    removes all rows that do not have a variant_id\n",
    "    drops all not needed collumns\n",
    "    renames all needed collumns to useable names\n",
    "    \n",
    "    \"\"\"\n",
    "    data = pd.read_csv(filepath, sep=\"\\s+\")\n",
    "    data = data[data[\"hm_variant_id\"].notna()]\n",
    "    data = data.dropna(axis=1)\n",
    "    data = data[[\"chromosome\", \"base_pair_location\", \"variant_id\", \"beta\", \"standard_error\", \"p_value\"]]\n",
    "    data = data.rename(columns={\"chromosome\":\"CHR\", \"base_pair_location\":\"POS\", \"variant_id\":\"SNP\", \"beta\":\"BETA\", \"standard_error\":\"SE\", \"p_value\":\"P\"})\n",
    "    file = filepath.split(\".\", 1)[0]\n",
    "    data.to_csv(file + \"_prepped.txt\", sep=\"\\t\", index=False)"
   ]
  },
  {
   "cell_type": "markdown",
   "id": "27282b61",
   "metadata": {},
   "source": [
    "All files are ran through Plink with the following flags:\n",
    "\n",
    "plink\n",
    "--bfile 1000G/1000G.EUR\n",
    "--clump filepath\n",
    "--clump-p1 5e-8\n",
    "--clump-r2 0.10\n",
    "--clump-kb 1000\n",
    "--out (IBD/PC/Height)_5e8_1000kb_r2_01\n"
   ]
  },
  {
   "cell_type": "code",
   "execution_count": 37,
   "id": "fd6eb04b",
   "metadata": {},
   "outputs": [],
   "source": [
    "def prep_for_depict(filepath):\n",
    "    \"\"\"\n",
    "    Removes all collumns exept SNP. this is needed for Depict\n",
    "    run for IBD, PC, and Height file\n",
    "    \"\"\"\n",
    "    data = pd.read_csv(filepath, sep=\"\\s+\")\n",
    "    data = data[\"SNP\"]\n",
    "    file = filepath.split(\".\", 1)[0]\n",
    "    data.to_csv(file + \"_prepped4depict.txt\", sep=\"\\t\", index=False, header=False)"
   ]
  },
  {
   "cell_type": "code",
   "execution_count": 38,
   "id": "c5064bb6",
   "metadata": {},
   "outputs": [],
   "source": [
    "def resample_Height(filepath):\n",
    "    \"\"\"\n",
    "    The Height SNP file is too large for Depict.\n",
    "    Therefor it was found it could not have more than 200 SNP's\n",
    "    Takes 200 random SNP's from Height file to use in Depict and saves this to Height_200.txt\n",
    "    \"\"\"\n",
    "    data = pd.read_csv(filepath, sep=\"\\t\")\n",
    "    data = data.sample(n=200, axis=0)\n",
    "    file = filepath.rsplit(\"/\", 1)[0]\n",
    "    if file == filepath:\n",
    "        file = \"\"\n",
    "    data.to_csv(file + \"Height_200.txt\", sep=\"\\t\", index=False, header=False)"
   ]
  },
  {
   "cell_type": "code",
   "execution_count": 39,
   "id": "d6c80ac9",
   "metadata": {},
   "outputs": [],
   "source": [
    "IBD = \"C:/Users/Pin/Desktop/Execute_methods/editsnpfiles/28067908-GCST004131-EFO_0003767.h.tsv\"\n",
    "PC = \"C:/Users/Pin/Desktop/Execute_methods/editsnpfiles/29892016-GCST006085-EFO_0001663.h.tsv\""
   ]
  },
  {
   "cell_type": "code",
   "execution_count": 40,
   "id": "750e53c1",
   "metadata": {},
   "outputs": [],
   "source": [
    "prep_IBD_PC_for_plink(IBD)"
   ]
  },
  {
   "cell_type": "code",
   "execution_count": 6,
   "id": "2195c37d",
   "metadata": {},
   "outputs": [
    {
     "name": "stderr",
     "output_type": "stream",
     "text": [
      "C:\\Users\\Pin\\AppData\\Local\\Temp/ipykernel_12664/65994287.py:1: DtypeWarning: Columns (2) have mixed types.Specify dtype option on import or set low_memory=False.\n",
      "  prep_IBD_PC_for_plink(PC)\n"
     ]
    }
   ],
   "source": [
    "prep_IBD_PC_for_plink(PC)"
   ]
  },
  {
   "cell_type": "code",
   "execution_count": 8,
   "id": "7d5f70d9",
   "metadata": {},
   "outputs": [],
   "source": [
    "IBD2 = \"IBD_5e8_1000kb_r2_01.clumped\"\n",
    "PC2 = \"PC_5e8_1000kb_r2_01.clumped\"\n",
    "Height = \"Height_5e8_1000kb_r2_01.clumped\""
   ]
  },
  {
   "cell_type": "code",
   "execution_count": 18,
   "id": "98f4a6c4",
   "metadata": {},
   "outputs": [],
   "source": [
    "prep_for_depict(IBD2)\n",
    "prep_for_depict(PC2)\n",
    "prep_for_depict(Height)"
   ]
  },
  {
   "cell_type": "code",
   "execution_count": 19,
   "id": "eef83e21",
   "metadata": {},
   "outputs": [],
   "source": [
    "Height2 = \"Height_5e8_1000kb_r2_01_prepped4depict.txt\""
   ]
  },
  {
   "cell_type": "code",
   "execution_count": null,
   "id": "ea63f2a3",
   "metadata": {},
   "outputs": [],
   "source": [
    "resample_Height(Height2)"
   ]
  }
 ],
 "metadata": {
  "kernelspec": {
   "display_name": "Python 3 (ipykernel)",
   "language": "python",
   "name": "python3"
  },
  "language_info": {
   "codemirror_mode": {
    "name": "ipython",
    "version": 3
   },
   "file_extension": ".py",
   "mimetype": "text/x-python",
   "name": "python",
   "nbconvert_exporter": "python",
   "pygments_lexer": "ipython3",
   "version": "3.9.7"
  }
 },
 "nbformat": 4,
 "nbformat_minor": 5
}
